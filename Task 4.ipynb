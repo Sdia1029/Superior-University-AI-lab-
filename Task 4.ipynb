{
 "cells": [
  {
   "cell_type": "markdown",
   "id": "45eb0ce6",
   "metadata": {},
   "source": [
    "Lab 4:\n",
    "Task 1: Code for LUHN Algorithm \n",
    "Task 2: Remove Punctuations from UserInput String (without using remove function)\n",
    "Task 3: Sort text (word) in Alphabetical Order (without using sort function)"
   ]
  },
  {
   "cell_type": "markdown",
   "id": "b8a90608",
   "metadata": {},
   "source": [
    "# Task 1:"
   ]
  },
  {
   "cell_type": "code",
   "execution_count": 11,
   "id": "10d997b5",
   "metadata": {},
   "outputs": [
    {
     "name": "stdout",
     "output_type": "stream",
     "text": [
      "Card is valid.\n",
      "Card is Invalid.\n"
     ]
    }
   ],
   "source": [
    "class Luhn_Algorithm:\n",
    "    def __init__(self,card_number):\n",
    "        self.card_number=card_number\n",
    "    \n",
    "    def validate(self):\n",
    "        card_number=list(self.card_number)\n",
    "        last_digit=card_number.pop()\n",
    "        card_number.reverse()\n",
    "     \n",
    "        for i in range(len(card_number)):\n",
    "            if i % 2==0:\n",
    "                d=int(card_number[i])*2\n",
    "                card_number[i]=str(d)\n",
    "        \n",
    "        for i in range (len(card_number)):\n",
    "            if int(card_number[i])>9:\n",
    "                card_number[i]=str(int(card_number[i])-9)\n",
    "        \n",
    "        total_sum=sum(int(num) for num in card_number)+int(last_digit)\n",
    "\n",
    "        if total_sum%10==0:\n",
    "            print(\"Card is valid.\")\n",
    "        else:\n",
    "            print(\"Card is Invalid.\")\n",
    "L=Luhn_Algorithm(\"5893804115457289\")\n",
    "l=Luhn_Algorithm(\"5893894115457289\")\n",
    "L.validate()\n",
    "l.validate()"
   ]
  },
  {
   "cell_type": "markdown",
   "id": "67bf8b8b",
   "metadata": {},
   "source": [
    "# Task 2"
   ]
  },
  {
   "cell_type": "code",
   "execution_count": 12,
   "id": "108512fe",
   "metadata": {},
   "outputs": [
    {
     "name": "stdout",
     "output_type": "stream",
     "text": [
      "Hello world\n"
     ]
    }
   ],
   "source": [
    "def remove_punctuation(text):\n",
    "    punctuation = \"!()\\\"#$%&'()*+,-./:;<=>?\\\\^_`{|}~\"\n",
    "    result = ''\n",
    "    for char in text:\n",
    "        if char not in punctuation:\n",
    "            result += char\n",
    "    return result\n",
    "\n",
    "\n",
    "text = \"Hello, world!\"\n",
    "clean_text = remove_punctuation(text)\n",
    "print(clean_text)"
   ]
  },
  {
   "cell_type": "markdown",
   "id": "c95e6c1b",
   "metadata": {},
   "source": [
    "# Task3"
   ]
  },
  {
   "cell_type": "code",
   "execution_count": 32,
   "id": "9eb8b892",
   "metadata": {},
   "outputs": [
    {
     "name": "stdout",
     "output_type": "stream",
     "text": [
      "Original Text:sadia\n",
      "Sorted Text :aadis\n"
     ]
    }
   ],
   "source": [
    "def sort(text):\n",
    "    char=list(text)\n",
    "    for j in range(len(char)-1):\n",
    "        for i in range(len(char)-1):\n",
    "            if char[i]>char[i+1]:\n",
    "                char[i],char[i+1]=char[i+1],char[i]\n",
    "    sorted_text=\"\".join(char)\n",
    "    return sorted_text\n",
    "text=\"sadia\"\n",
    "print(f\"Original Text:{text}\")\n",
    "print(f\"Sorted Text :{sort(text)}\")\n",
    "\n"
   ]
  },
  {
   "cell_type": "code",
   "execution_count": null,
   "id": "4213dc91",
   "metadata": {},
   "outputs": [],
   "source": []
  }
 ],
 "metadata": {
  "kernelspec": {
   "display_name": "Python 3 (ipykernel)",
   "language": "python",
   "name": "python3"
  },
  "language_info": {
   "codemirror_mode": {
    "name": "ipython",
    "version": 3
   },
   "file_extension": ".py",
   "mimetype": "text/x-python",
   "name": "python",
   "nbconvert_exporter": "python",
   "pygments_lexer": "ipython3",
   "version": "3.11.5"
  }
 },
 "nbformat": 4,
 "nbformat_minor": 5
}
