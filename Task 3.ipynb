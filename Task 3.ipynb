{
 "cells": [
  {
   "cell_type": "markdown",
   "id": "1fea3b38",
   "metadata": {},
   "source": [
    "# ModelBaseReflexAgent "
   ]
  },
  {
   "cell_type": "code",
   "execution_count": 1,
   "id": "bf89d49f",
   "metadata": {},
   "outputs": [
    {
     "name": "stdout",
     "output_type": "stream",
     "text": [
      "Enter the Desired Temperature: 22\n",
      "Kitchen: Current Temperature = 12°C. Turn On Heater.\n",
      "Bedroom: Current Temperature = 22°C. Turn Off Heater.\n",
      "Living Room: Current Temperature = 38°C. Turn Off Heater.\n"
     ]
    }
   ],
   "source": [
    "class ModelBasedReflexAgent:\n",
    "    def __init__(self, desired_temperature):\n",
    "        self.desired_temperature = desired_temperature\n",
    "        self.previous_actions = {}\n",
    "    \n",
    "    def perceive(self, current_temperature):\n",
    "        return current_temperature\n",
    "    \n",
    "    def actuator(self, room, current_temperature):\n",
    "        if current_temperature < self.desired_temperature:\n",
    "            new_action = \"Turn On Heater\"\n",
    "        else:\n",
    "            new_action = \"Turn Off Heater\"\n",
    "        \n",
    "        \n",
    "        if self.previous_actions.get(room) == new_action:\n",
    "            return \"No Change\"\n",
    "        else:\n",
    "            self.previous_actions[room] = new_action\n",
    "            return new_action\n",
    "\n",
    "\n",
    "rooms = {\n",
    "    \"Kitchen\": 12,\n",
    "    \"Bedroom\": 22,\n",
    "    \"Living Room\": 38\n",
    "}\n",
    "\n",
    "\n",
    "desired_temperature = int(input(\"Enter the Desired Temperature: \"))\n",
    "agent = ModelBasedReflexAgent(desired_temperature)\n",
    "\n",
    "\n",
    "for room, temperature in rooms.items():\n",
    "    action = agent.actuator(room, temperature)\n",
    "    print(f\"{room}: Current Temperature = {temperature}°C. {action}.\")\n"
   ]
  },
  {
   "cell_type": "code",
   "execution_count": null,
   "id": "bcc6561c",
   "metadata": {},
   "outputs": [],
   "source": []
  }
 ],
 "metadata": {
  "kernelspec": {
   "display_name": "Python 3 (ipykernel)",
   "language": "python",
   "name": "python3"
  },
  "language_info": {
   "codemirror_mode": {
    "name": "ipython",
    "version": 3
   },
   "file_extension": ".py",
   "mimetype": "text/x-python",
   "name": "python",
   "nbconvert_exporter": "python",
   "pygments_lexer": "ipython3",
   "version": "3.11.5"
  }
 },
 "nbformat": 4,
 "nbformat_minor": 5
}
