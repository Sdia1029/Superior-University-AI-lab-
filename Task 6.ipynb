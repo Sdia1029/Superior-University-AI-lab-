{
 "cells": [
  {
   "cell_type": "code",
   "execution_count": null,
   "id": "e078a83d",
   "metadata": {},
   "outputs": [],
   "source": [
    "#  Tree\n",
    "#        A\n",
    "#       / \\\n",
    "#      B   C\n",
    "#     / \\ / \\\n",
    "#    D  E F  G"
   ]
  },
  {
   "cell_type": "markdown",
   "id": "3dbf5d03",
   "metadata": {},
   "source": [
    "# Task 1"
   ]
  },
  {
   "cell_type": "code",
   "execution_count": 1,
   "id": "c8606697",
   "metadata": {},
   "outputs": [],
   "source": [
    "# BFS without Queue & without Node"
   ]
  },
  {
   "cell_type": "code",
   "execution_count": 14,
   "id": "403917e5",
   "metadata": {},
   "outputs": [
    {
     "name": "stdout",
     "output_type": "stream",
     "text": [
      "A\n",
      "B\n",
      "D\n",
      "E\n",
      "C\n",
      "F\n",
      "Goal node F found\n"
     ]
    },
    {
     "data": {
      "text/plain": [
       "True"
      ]
     },
     "execution_count": 14,
     "metadata": {},
     "output_type": "execute_result"
    }
   ],
   "source": [
    "tree = {\n",
    "    'A': ['B', 'C'],\n",
    "    'B': ['D', 'E'],\n",
    "    'D': [],\n",
    "    'E': [],\n",
    "    'C': ['F', 'G'],\n",
    "    'F': [],\n",
    "    'G': []\n",
    "}\n",
    "\n",
    "def bfs(tree, start, goal, visited=None):\n",
    "    if visited is None:\n",
    "        visited = []\n",
    "    if start not in visited:\n",
    "        print(start)\n",
    "        visited.append(start)\n",
    "        if start == goal:\n",
    "            print(f\"Goal node {goal} found\")\n",
    "            return True\n",
    "\n",
    "        for neighbour in tree[start]:  \n",
    "            if bfs(tree, neighbour, goal, visited):\n",
    "                return True\n",
    "    return False\n",
    "\n",
    "bfs(tree, \"A\", \"F\")"
   ]
  },
  {
   "cell_type": "markdown",
   "id": "b20ee4d7",
   "metadata": {},
   "source": [
    "# Task2"
   ]
  },
  {
   "cell_type": "code",
   "execution_count": 5,
   "id": "6271c316",
   "metadata": {},
   "outputs": [],
   "source": [
    "# BFS with Stack & Node"
   ]
  },
  {
   "cell_type": "code",
   "execution_count": 6,
   "id": "adf3930d",
   "metadata": {},
   "outputs": [
    {
     "name": "stdout",
     "output_type": "stream",
     "text": [
      "A\n",
      "B\n",
      "C\n",
      "D\n",
      "E\n",
      "F\n",
      "Goal Node is Found:F\n"
     ]
    }
   ],
   "source": [
    "tree={\n",
    "    'A':['B','C'],\n",
    "    'B':['D','E'],\n",
    "    'D':[],\n",
    "    'E':[],\n",
    "    'C':['F','G'],\n",
    "    'F':[],\n",
    "    'G':[]\n",
    "}\n",
    "\n",
    "def bfs(tree,start,goal):\n",
    "    queue=[start]\n",
    "    visited=[]\n",
    "    while queue:\n",
    "        node=queue.pop(0)\n",
    "        if node not in visited:\n",
    "            print(node)\n",
    "            visited.append(node)\n",
    "        if node == goal:\n",
    "            print(f\"Goal Node is Found:{goal}\")\n",
    "            return\n",
    "        for neighbour in tree[node]:\n",
    "            if neighbour not in visited:\n",
    "                queue.append(neighbour)\n",
    "                \n",
    "    print(\"\\nGoal node not found.\")\n",
    "bfs(tree,\"A\",'F')"
   ]
  },
  {
   "cell_type": "code",
   "execution_count": null,
   "id": "6d0ea45f",
   "metadata": {},
   "outputs": [],
   "source": []
  }
 ],
 "metadata": {
  "kernelspec": {
   "display_name": "Python 3 (ipykernel)",
   "language": "python",
   "name": "python3"
  },
  "language_info": {
   "codemirror_mode": {
    "name": "ipython",
    "version": 3
   },
   "file_extension": ".py",
   "mimetype": "text/x-python",
   "name": "python",
   "nbconvert_exporter": "python",
   "pygments_lexer": "ipython3",
   "version": "3.11.5"
  }
 },
 "nbformat": 4,
 "nbformat_minor": 5
}
