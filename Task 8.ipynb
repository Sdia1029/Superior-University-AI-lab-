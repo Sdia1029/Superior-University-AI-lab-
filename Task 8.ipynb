{
 "cells": [
  {
   "cell_type": "markdown",
   "id": "bfec077a",
   "metadata": {},
   "source": [
    "# Task 8:"
   ]
  },
  {
   "cell_type": "code",
   "execution_count": 3,
   "id": "332f6c41",
   "metadata": {},
   "outputs": [
    {
     "name": "stdout",
     "output_type": "stream",
     "text": [
      "The optimal value is : 12\n"
     ]
    }
   ],
   "source": [
    "import math\n",
    "\n",
    "def minimax (curDepth, nodeIndex,\n",
    "            maxTurn, scores, \n",
    "            targetDepth):\n",
    "\n",
    "\n",
    "    if (curDepth == targetDepth): \n",
    "        return scores[nodeIndex]\n",
    "\n",
    "    if (maxTurn):\n",
    "        return max(minimax(curDepth + 1, nodeIndex * 2, \n",
    "                False, scores, targetDepth), \n",
    "                minimax(curDepth + 1, nodeIndex * 2 + 1, \n",
    "                    False, scores, targetDepth))\n",
    "    else:\n",
    "        return min(minimax(curDepth + 1, nodeIndex * 2, \n",
    "                    True, scores, targetDepth), \n",
    "                minimax(curDepth + 1, nodeIndex * 2 + 1, \n",
    "                    True, scores, targetDepth))\n",
    "\n",
    "\n",
    "scores = [3, 5, 2, 9, 12, 5, 23, 23]\n",
    "\n",
    "treeDepth = math.log(len(scores), 2)\n",
    "print(\"The optimal value is : \", end = \"\")\n",
    "print(minimax(0, 0, True, scores, treeDepth))"
   ]
  },
  {
   "cell_type": "code",
   "execution_count": null,
   "id": "5a857f0c",
   "metadata": {},
   "outputs": [],
   "source": []
  }
 ],
 "metadata": {
  "kernelspec": {
   "display_name": "Python 3 (ipykernel)",
   "language": "python",
   "name": "python3"
  },
  "language_info": {
   "codemirror_mode": {
    "name": "ipython",
    "version": 3
   },
   "file_extension": ".py",
   "mimetype": "text/x-python",
   "name": "python",
   "nbconvert_exporter": "python",
   "pygments_lexer": "ipython3",
   "version": "3.11.5"
  }
 },
 "nbformat": 4,
 "nbformat_minor": 5
}
