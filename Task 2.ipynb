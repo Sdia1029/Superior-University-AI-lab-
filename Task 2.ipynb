{
 "cells": [
  {
   "cell_type": "markdown",
   "id": "3a3fd8fd",
   "metadata": {},
   "source": [
    "# Fizz Buzz"
   ]
  },
  {
   "cell_type": "code",
   "execution_count": 8,
   "id": "4ddd5b60",
   "metadata": {},
   "outputs": [
    {
     "name": "stdout",
     "output_type": "stream",
     "text": [
      "Enter the number: 5\n",
      "Buzz\n",
      "Do you want to continue? (Yes/No): yes\n",
      "Enter the number: 18\n",
      "Fizz\n",
      "Do you want to continue? (Yes/No): yes\n",
      "Enter the number: 4\n",
      "4\n",
      "Do you want to continue? (Yes/No): yes\n",
      "Enter the number: 8\n",
      "8\n",
      "Fizz\n",
      "Do you want to continue? (Yes/No): yes\n",
      "Enter the number: 15\n",
      "FizzBuzz\n",
      "Do you want to continue? (Yes/No): no\n",
      "Exiting the game...\n"
     ]
    }
   ],
   "source": [
    "def FizzBuzz():\n",
    "    last_input = None\n",
    "    while True:\n",
    "        n = int(input('Enter the number: '))\n",
    "        if n % 3 == 0 and n % 5 == 0:\n",
    "            print(\"FizzBuzz\")\n",
    "        elif n % 3 == 0:\n",
    "            print(\"Fizz\")\n",
    "        elif n % 5 == 0:\n",
    "            print(\"Buzz\")\n",
    "        else:\n",
    "            print(n)\n",
    "        if last_input is not None:\n",
    "            total_sum = last_input + n\n",
    "            if total_sum % 3 == 0 and total_sum % 5 == 0:\n",
    "                print(\"FizzBuzz\")\n",
    "            elif total_sum % 3 == 0:\n",
    "                print(\"Fizz\")\n",
    "            elif total_sum % 5 == 0:\n",
    "                print(\"Buzz\")\n",
    "        last_input = n\n",
    "        choice = input(\"Do you want to continue? (Yes/No): \").lower()\n",
    "        if choice == \"no\":\n",
    "            print(\"Exiting the game...\")\n",
    "            break\n",
    "\n",
    "FizzBuzz()\n"
   ]
  },
  {
   "cell_type": "markdown",
   "id": "abc66504",
   "metadata": {},
   "source": [
    "# Movie Data_Set"
   ]
  },
  {
   "cell_type": "code",
   "execution_count": null,
   "id": "069d4cf9",
   "metadata": {},
   "outputs": [],
   "source": [
    "movies = [\n",
    "    (\"Eternal Sunshine of the Spotless Mind\", 20000000),\n",
    "    (\"Memento\", 9000000),\n",
    "    (\"Requiem for a Dream\", 4500000),\n",
    "    (\"Pirates of the Caribbean: On Stranger Tides\", 379000000),\n",
    "    (\"Avengers: Age of Ultron\", 365000000),\n",
    "    (\"Avengers: Endgame\", 356000000),\n",
    "    (\"Incredibles 2\", 200000000)\n",
    "]"
   ]
  },
  {
   "cell_type": "markdown",
   "id": "9f60b65d",
   "metadata": {},
   "source": [
    "# Add New Movie:"
   ]
  },
  {
   "cell_type": "code",
   "execution_count": 7,
   "id": "1127fe3b",
   "metadata": {},
   "outputs": [],
   "source": [
    "def add_movie():\n",
    "    num_movies=int(input(\"Enter the number of movies you want to add:\"))\n",
    "    for i in range(num_movies):\n",
    "        name=input(\"Add the movie name you want to add :\")\n",
    "        budget=int(input(\"Enter the budget:\"))\n",
    "        movies.append((name,budget))\n"
   ]
  },
  {
   "cell_type": "markdown",
   "id": "206a5d93",
   "metadata": {},
   "source": [
    "# Calculate the Average  Budget:"
   ]
  },
  {
   "cell_type": "code",
   "execution_count": 8,
   "id": "753125c3",
   "metadata": {},
   "outputs": [],
   "source": [
    "def calculate_average_budget():\n",
    "    total_budget=0\n",
    "    for i in movies:\n",
    "        budget=i[1]\n",
    "        total_budget+= budget\n",
    "    average_budget=total_budget/len(movies)\n",
    "    return  average_budget"
   ]
  },
  {
   "cell_type": "markdown",
   "id": "a8d090d7",
   "metadata": {},
   "source": [
    "# Find High Budget Movie:"
   ]
  },
  {
   "cell_type": "code",
   "execution_count": 9,
   "id": "1c73a6c0",
   "metadata": {},
   "outputs": [],
   "source": [
    "def high_budget_movies(average_budget):\n",
    "    high_budget_list = []\n",
    "    for movie in movies:\n",
    "        name, budget = movie\n",
    "        if budget > average_budget:\n",
    "            difference = budget - average_budget\n",
    "            high_budget_list.append((name, budget, difference))\n",
    "    return high_budget_list\n"
   ]
  },
  {
   "cell_type": "code",
   "execution_count": 12,
   "id": "8cfd8bb1",
   "metadata": {},
   "outputs": [
    {
     "name": "stdout",
     "output_type": "stream",
     "text": [
      "Add the Movies:\n",
      "Enter the number of movies you want to add:1\n",
      "Add the movie name you want to add :the jungel\n",
      "Enter the budget:7000000\n",
      "\n",
      "The average budget is 134230000.0\n",
      "\n",
      "Movies with a budget higher than the average:\n",
      "Movie is Pirates of the Caribbean: On Stranger Tides Budget is 379000000 Difference is 244770000.0 higher than average.\n",
      "Movie is Avengers: Age of Ultron Budget is 365000000 Difference is 230770000.0 higher than average.\n",
      "Movie is Avengers: Endgame Budget is 356000000 Difference is 221770000.0 higher than average.\n",
      "Movie is Incredibles 2 Budget is 200000000 Difference is 65770000.0 higher than average.\n",
      "\n",
      "Total number of movies  higher than the average budget: 4\n"
     ]
    }
   ],
   "source": [
    "print(\"Add the Movies:\")\n",
    "add_movie()\n",
    "\n",
    "\n",
    "average_budget = calculate_average_budget()\n",
    "print(f\"\\nThe average budget is {average_budget}\")\n",
    "\n",
    "high_budget_list = high_budget_movies(average_budget)\n",
    "\n",
    "print(\"\\nMovies with a budget higher than the average:\")\n",
    "for movie in high_budget_list:\n",
    "    name, budget, difference = movie\n",
    "    print(f\"Movie is {name} Budget is {budget} Difference is {difference} higher than average.\")\n",
    "\n",
    "print(f\"\\nTotal number of movies  higher than the average budget: {len(high_budget_list)}\")\n"
   ]
  },
  {
   "cell_type": "code",
   "execution_count": 13,
   "id": "9ee57edc",
   "metadata": {},
   "outputs": [
    {
     "name": "stdout",
     "output_type": "stream",
     "text": [
      "[('Eternal Sunshine of the Spotless Mind', 20000000), ('Memento', 9000000), ('Requiem for a Dream', 4500000), ('Pirates of the Caribbean: On Stranger Tides', 379000000), ('Avengers: Age of Ultron', 365000000), ('Avengers: Endgame', 356000000), ('Incredibles 2', 200000000), ('Ghost', 900000), ('Ghost ', 900000), ('the jungel', 7000000)]\n"
     ]
    }
   ],
   "source": [
    "print(movies)"
   ]
  },
  {
   "cell_type": "code",
   "execution_count": null,
   "id": "38e10934",
   "metadata": {},
   "outputs": [],
   "source": []
  }
 ],
 "metadata": {
  "kernelspec": {
   "display_name": "Python 3 (ipykernel)",
   "language": "python",
   "name": "python3"
  },
  "language_info": {
   "codemirror_mode": {
    "name": "ipython",
    "version": 3
   },
   "file_extension": ".py",
   "mimetype": "text/x-python",
   "name": "python",
   "nbconvert_exporter": "python",
   "pygments_lexer": "ipython3",
   "version": "3.11.5"
  }
 },
 "nbformat": 4,
 "nbformat_minor": 5
}
