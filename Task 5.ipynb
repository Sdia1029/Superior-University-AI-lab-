{
 "cells": [
  {
   "cell_type": "code",
   "execution_count": null,
   "id": "681089aa",
   "metadata": {},
   "outputs": [],
   "source": [
    "#  Tree\n",
    "#        A\n",
    "#       / \\\n",
    "#      B   C\n",
    "#     / \\ / \\\n",
    "#    D  E F  G"
   ]
  },
  {
   "cell_type": "markdown",
   "id": "3aeec1d0",
   "metadata": {},
   "source": [
    "# Task 1"
   ]
  },
  {
   "cell_type": "code",
   "execution_count": 1,
   "id": "5bdff306",
   "metadata": {},
   "outputs": [],
   "source": [
    "# DFS with Stack & Node"
   ]
  },
  {
   "cell_type": "code",
   "execution_count": 4,
   "id": "186a9c73",
   "metadata": {},
   "outputs": [
    {
     "name": "stdout",
     "output_type": "stream",
     "text": [
      "A\n",
      "C\n",
      "G\n",
      "F\n",
      "Goal Node is Found:F\n"
     ]
    }
   ],
   "source": [
    "tree={\n",
    "    'A':['B','C'],\n",
    "    'B':['D','E'],\n",
    "    'D':[],\n",
    "    'E':[],\n",
    "    'C':['F','G'],\n",
    "    'F':[],\n",
    "    'G':[]\n",
    "}\n",
    "\n",
    "def dfs(tree,start,goal):\n",
    "    stack=[start]\n",
    "    visited=[]\n",
    "    while stack:\n",
    "        node=stack.pop()\n",
    "        if node not in visited:\n",
    "            print(node)\n",
    "            visited.append(node)\n",
    "        if node == goal:\n",
    "            print(f\"Goal Node is Found:{goal}\")\n",
    "            return\n",
    "        for neighbour in tree[node]:\n",
    "            if neighbour not in visited:\n",
    "                stack.append(neighbour)\n",
    "                \n",
    "    print(\"\\nGoal node not found.\")\n",
    "dfs(tree,\"A\",'F')"
   ]
  },
  {
   "cell_type": "markdown",
   "id": "0c92a312",
   "metadata": {},
   "source": [
    "# Task 2"
   ]
  },
  {
   "cell_type": "code",
   "execution_count": null,
   "id": "0583f3ad",
   "metadata": {},
   "outputs": [],
   "source": [
    "# DFS with Preorder Traversal,Inorder Traversal,Postorder Traversal"
   ]
  },
  {
   "cell_type": "code",
   "execution_count": null,
   "id": "a405adb7",
   "metadata": {},
   "outputs": [],
   "source": [
    "Preorder Traversal (Root, Left, Right)\n",
    "Inorder Traversal (Left, Root, Right)\n",
    "Postorder Traversal (Left, Right, Root)"
   ]
  },
  {
   "cell_type": "code",
   "execution_count": 2,
   "id": "b8a94d52",
   "metadata": {},
   "outputs": [
    {
     "name": "stdout",
     "output_type": "stream",
     "text": [
      "\n",
      "preorder treversal:\n",
      "ABDECFG"
     ]
    }
   ],
   "source": [
    "tree={\n",
    "    'A':['B','C'],\n",
    "    'B':['D','E'],\n",
    "    'D':[],\n",
    "    'E':[],\n",
    "    'C':['F','G'],\n",
    "    'F':[],\n",
    "    'G':[]\n",
    "}\n",
    "def preorder(tree,node):\n",
    "    if node:\n",
    "        print(node,end=\"\")\n",
    "        for child in tree[node]:\n",
    "            preorder(tree,child)\n",
    "            \n",
    "print()\n",
    "print(\"preorder treversal:\")\n",
    "preorder(tree,\"A\")"
   ]
  },
  {
   "cell_type": "code",
   "execution_count": 6,
   "id": "ddecf361",
   "metadata": {},
   "outputs": [
    {
     "name": "stdout",
     "output_type": "stream",
     "text": [
      "postorder treversal:\n",
      "ABDDEEBCFFGGCA"
     ]
    }
   ],
   "source": [
    "def postorder(tree,node):\n",
    "    if node:\n",
    "        print(node,end=\"\")\n",
    "        for child in tree[node]:\n",
    "            postorder(tree,child)\n",
    "        print(node,end=\"\")    \n",
    "print(\"postorder treversal:\")\n",
    "postorder(tree,\"A\")"
   ]
  },
  {
   "cell_type": "code",
   "execution_count": 5,
   "id": "7ecb5523",
   "metadata": {},
   "outputs": [
    {
     "name": "stdout",
     "output_type": "stream",
     "text": [
      "Inorder Treversal\n",
      "DBEAFCG"
     ]
    }
   ],
   "source": [
    "def inorder(tree,node):\n",
    "    if node:\n",
    "        children=tree[node]\n",
    "        if len(children)>0:\n",
    "            inorder(tree,children[0])\n",
    "        print(node,end=\"\")\n",
    "        if len(children)>1:\n",
    "            inorder(tree,children[1])\n",
    "print(\"Inorder Treversal\")\n",
    "inorder(tree,\"A\")"
   ]
  },
  {
   "cell_type": "code",
   "execution_count": null,
   "id": "aa9fbad8",
   "metadata": {},
   "outputs": [],
   "source": []
  },
  {
   "cell_type": "code",
   "execution_count": null,
   "id": "f3b3a193",
   "metadata": {},
   "outputs": [],
   "source": []
  },
  {
   "cell_type": "code",
   "execution_count": null,
   "id": "ea393723",
   "metadata": {},
   "outputs": [],
   "source": []
  },
  {
   "cell_type": "code",
   "execution_count": null,
   "id": "2223655c",
   "metadata": {},
   "outputs": [],
   "source": []
  },
  {
   "cell_type": "code",
   "execution_count": null,
   "id": "5aec1aa8",
   "metadata": {},
   "outputs": [],
   "source": []
  },
  {
   "cell_type": "code",
   "execution_count": null,
   "id": "320f15c4",
   "metadata": {},
   "outputs": [],
   "source": []
  },
  {
   "cell_type": "code",
   "execution_count": null,
   "id": "9d836815",
   "metadata": {},
   "outputs": [],
   "source": []
  },
  {
   "cell_type": "code",
   "execution_count": null,
   "id": "f48e3d8d",
   "metadata": {},
   "outputs": [],
   "source": []
  }
 ],
 "metadata": {
  "kernelspec": {
   "display_name": "Python 3 (ipykernel)",
   "language": "python",
   "name": "python3"
  },
  "language_info": {
   "codemirror_mode": {
    "name": "ipython",
    "version": 3
   },
   "file_extension": ".py",
   "mimetype": "text/x-python",
   "name": "python",
   "nbconvert_exporter": "python",
   "pygments_lexer": "ipython3",
   "version": "3.11.5"
  }
 },
 "nbformat": 4,
 "nbformat_minor": 5
}
